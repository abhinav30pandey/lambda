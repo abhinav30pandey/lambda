{
 "cells": [
  {
   "cell_type": "code",
   "execution_count": null,
   "id": "da519d3f",
   "metadata": {},
   "outputs": [],
   "source": [
    "l1=[1,2,3,4]\n",
    "l2=l1\n",
    "print(l1)\n",
    "print(l2)\n",
    "l1[0]=5\n",
    "print(l1[0],l2[0])\n",
    "print(l2)\n",
    "print(l1)\n"
   ]
  },
  {
   "cell_type": "code",
   "execution_count": null,
   "id": "68562462",
   "metadata": {},
   "outputs": [],
   "source": [
    "l1=[1,2,3,4]\n",
    "l2=l1\n",
    "l2=l1+l2\n",
    "print(l1)\n",
    "print(l2)"
   ]
  },
  {
   "cell_type": "code",
   "execution_count": null,
   "id": "44bf596b",
   "metadata": {},
   "outputs": [],
   "source": [
    "lst=['a','e','i']\n",
    "res='a' in lst\n",
    "print(res)"
   ]
  },
  {
   "cell_type": "code",
   "execution_count": null,
   "id": "f995d31e",
   "metadata": {},
   "outputs": [],
   "source": [
    "l1=[1,2,3,4,5]\n",
    "l2=[1,2,3,4,5]\n",
    "l3=l1\n",
    "print(l1 is l3)\n",
    "print(l1 is l2)\n",
    "print(l1 is not l2)"
   ]
  },
  {
   "cell_type": "code",
   "execution_count": null,
   "id": "57bc0c6c",
   "metadata": {},
   "outputs": [],
   "source": [
    "a=[1,2,6,4]\n",
    "b=[1,2,5]\n",
    "print(a<b)"
   ]
  },
  {
   "cell_type": "code",
   "execution_count": null,
   "id": "05623883",
   "metadata": {},
   "outputs": [],
   "source": [
    "l=[1,2,3]\n",
    "for i in range (len(l)):\n",
    "    print('list',i)"
   ]
  },
  {
   "cell_type": "code",
   "execution_count": null,
   "id": "98c0a954",
   "metadata": {},
   "outputs": [],
   "source": [
    "lst=[1,2,3,4,7,6]\n",
    "del lst\n"
   ]
  },
  {
   "cell_type": "code",
   "execution_count": null,
   "id": "6eedd760",
   "metadata": {},
   "outputs": [],
   "source": [
    "s='hello'\n",
    "l=[*s]\n",
    "print(l)"
   ]
  },
  {
   "cell_type": "code",
   "execution_count": null,
   "id": "e9b62d11",
   "metadata": {},
   "outputs": [],
   "source": [
    "lst=['anil','amol','pagla','avi','alka']\n",
    "lst.insert(2,'anuj')\n",
    "lst.append('zulu')\n",
    "lst[0]='anilkumar'\n",
    "lst.remove('avi')\n",
    "lst.sort()\n",
    "lst.reverse()\n",
    "print(lst)\n"
   ]
  },
  {
   "cell_type": "code",
   "execution_count": null,
   "id": "77c5b3aa",
   "metadata": {},
   "outputs": [],
   "source": [
    "a=[1,3,5,7,9]\n",
    "b=[2,4,6,8,10]\n",
    "a=a+b\n",
    "a=[11,17,19]+a\n",
    "c=len(a)\n",
    "a[:]=[]\n",
    "del a\n",
    "print(a)"
   ]
  },
  {
   "cell_type": "code",
   "execution_count": null,
   "id": "6874f4a5",
   "metadata": {},
   "outputs": [],
   "source": [
    "s=[]\n",
    "s.append(10)\n",
    "s.append(20)\n",
    "s.append(30)\n",
    "s.append(40)\n",
    "print(s)\n",
    "print(s.pop())\n",
    "print(s.pop())\n",
    "print(s.pop())\n",
    "print(s)"
   ]
  },
  {
   "cell_type": "code",
   "execution_count": null,
   "id": "7620a05f",
   "metadata": {},
   "outputs": [],
   "source": [
    "import random\n",
    "a=[]\n",
    "i=1\n",
    "while i<=15:\n",
    "    num=random.randint(10,100)\n",
    "    a.append(num)\n",
    "    i=i+1\n",
    "print(a)\n",
    "for num in a:\n",
    "    if num>20 and num<50:\n",
    "        a.remove(num)\n",
    "print(a)        \n"
   ]
  },
  {
   "cell_type": "code",
   "execution_count": 6,
   "id": "c0b68318",
   "metadata": {},
   "outputs": [
    {
     "name": "stdout",
     "output_type": "stream",
     "text": [
      "([2, 4, 6], [8, 10, 12], [14, 16, 18])\n"
     ]
    }
   ],
   "source": [
    "a=[1,2,3],[4,5,6],[7,8,9]\n",
    "b=[1,2,3],[4,5,6],[7,8,9]\n",
    "c=[0,0,0],[0,0,0],[0,0,0]\n",
    "for i in range(len(a)):\n",
    "    for j in range(len(a)):\n",
    "        c[i][j]=a[i][j]+b[i][j]\n",
    "print(c)\n",
    "        \n",
    "    "
   ]
  },
  {
   "cell_type": "code",
   "execution_count": null,
   "id": "ec8d42cf",
   "metadata": {},
   "outputs": [],
   "source": [
    "b=[1,2,3],[4,5,6],[7,8,9]\n",
    "c=[0,0,0],[0,0,0],[0,0,0]\n",
    "for i in range(len(b)):\n",
    "    for j in range(len(c)):\n",
    "        c[i][j]=b[i][j]+c[i][j]\n",
    "print(c)\n",
    "        "
   ]
  },
  {
   "cell_type": "code",
   "execution_count": null,
   "id": "90efd260",
   "metadata": {},
   "outputs": [],
   "source": [
    "a=(10,20,30,40,50)\n",
    "i=0\n",
    "while i<len(a):\n",
    "    print(a[i])\n",
    "    i+=1\n",
    "for i in a:\n",
    "    print(n)"
   ]
  },
  {
   "cell_type": "code",
   "execution_count": null,
   "id": "1945d668",
   "metadata": {},
   "outputs": [],
   "source": [
    "a=(10,20,30,40)\n",
    "for i in enumerate(a):\n",
    "    print(i)"
   ]
  },
  {
   "cell_type": "code",
   "execution_count": 4,
   "id": "139ff1f7",
   "metadata": {},
   "outputs": [
    {
     "ename": "TypeError",
     "evalue": "'tuple' object does not support item assignment",
     "output_type": "error",
     "traceback": [
      "\u001b[1;31m---------------------------------------------------------------------------\u001b[0m",
      "\u001b[1;31mTypeError\u001b[0m                                 Traceback (most recent call last)",
      "\u001b[1;32m<ipython-input-4-958d806bc5a5>\u001b[0m in \u001b[0;36m<module>\u001b[1;34m\u001b[0m\n\u001b[0;32m      1\u001b[0m \u001b[0ma\u001b[0m\u001b[1;33m=\u001b[0m\u001b[1;33m(\u001b[0m\u001b[1;36m10\u001b[0m\u001b[1;33m,\u001b[0m\u001b[1;36m20\u001b[0m\u001b[1;33m,\u001b[0m\u001b[1;36m30\u001b[0m\u001b[1;33m,\u001b[0m\u001b[1;36m40\u001b[0m\u001b[1;33m)\u001b[0m\u001b[1;33m\u001b[0m\u001b[1;33m\u001b[0m\u001b[0m\n\u001b[1;32m----> 2\u001b[1;33m \u001b[0ma\u001b[0m\u001b[1;33m[\u001b[0m\u001b[1;36m0\u001b[0m\u001b[1;33m]\u001b[0m\u001b[1;33m=\u001b[0m\u001b[1;36m0\u001b[0m\u001b[1;33m\u001b[0m\u001b[1;33m\u001b[0m\u001b[0m\n\u001b[0m\u001b[0;32m      3\u001b[0m \u001b[0mprint\u001b[0m\u001b[1;33m(\u001b[0m\u001b[0ma\u001b[0m\u001b[1;33m)\u001b[0m\u001b[1;33m\u001b[0m\u001b[1;33m\u001b[0m\u001b[0m\n",
      "\u001b[1;31mTypeError\u001b[0m: 'tuple' object does not support item assignment"
     ]
    }
   ],
   "source": [
    "a=(10,20,30,40)\n",
    "a[0]=0\n",
    "print(a)"
   ]
  },
  {
   "cell_type": "code",
   "execution_count": 5,
   "id": "d8c3b133",
   "metadata": {},
   "outputs": [
    {
     "name": "stdout",
     "output_type": "stream",
     "text": [
      "[12, 20, 30, 40]\n",
      "<class 'list'>\n"
     ]
    }
   ],
   "source": [
    "a=(10,20,30,40)\n",
    "a=list(a)\n",
    "a[0]=12\n",
    "print(a)\n",
    "print(type(a))"
   ]
  },
  {
   "cell_type": "code",
   "execution_count": 1,
   "id": "47fbf12b",
   "metadata": {},
   "outputs": [
    {
     "name": "stdout",
     "output_type": "stream",
     "text": [
      "['__doc__', '__loader__', '__name__', '__package__', '__spec__', 'acos', 'acosh', 'asin', 'asinh', 'atan', 'atan2', 'atanh', 'ceil', 'comb', 'copysign', 'cos', 'cosh', 'degrees', 'dist', 'e', 'erf', 'erfc', 'exp', 'expm1', 'fabs', 'factorial', 'floor', 'fmod', 'frexp', 'fsum', 'gamma', 'gcd', 'hypot', 'inf', 'isclose', 'isfinite', 'isinf', 'isnan', 'isqrt', 'ldexp', 'lgamma', 'log', 'log10', 'log1p', 'log2', 'modf', 'nan', 'perm', 'pi', 'pow', 'prod', 'radians', 'remainder', 'sin', 'sinh', 'sqrt', 'tan', 'tanh', 'tau', 'trunc']\n"
     ]
    }
   ],
   "source": [
    "import math\n",
    "print(dir(math))"
   ]
  },
  {
   "cell_type": "code",
   "execution_count": 2,
   "id": "47fdc3d5",
   "metadata": {},
   "outputs": [
    {
     "name": "stdout",
     "output_type": "stream",
     "text": [
      "2.302585092994046\n"
     ]
    }
   ],
   "source": [
    "from math import*\n",
    "print(log(10))"
   ]
  },
  {
   "cell_type": "code",
   "execution_count": 7,
   "id": "01912b39",
   "metadata": {},
   "outputs": [
    {
     "ename": "ModuleNotFoundError",
     "evalue": "No module named 'help'",
     "output_type": "error",
     "traceback": [
      "\u001b[1;31m---------------------------------------------------------------------------\u001b[0m",
      "\u001b[1;31mModuleNotFoundError\u001b[0m                       Traceback (most recent call last)",
      "\u001b[1;32m<ipython-input-7-5612a3ea794f>\u001b[0m in \u001b[0;36m<module>\u001b[1;34m\u001b[0m\n\u001b[1;32m----> 1\u001b[1;33m \u001b[1;32mimport\u001b[0m \u001b[0mhelp\u001b[0m\u001b[1;33m\u001b[0m\u001b[1;33m\u001b[0m\u001b[0m\n\u001b[0m\u001b[0;32m      2\u001b[0m \u001b[0mprint\u001b[0m\u001b[1;33m(\u001b[0m\u001b[0mdir\u001b[0m\u001b[1;33m(\u001b[0m\u001b[0mhelp\u001b[0m\u001b[1;33m)\u001b[0m\u001b[1;33m)\u001b[0m\u001b[1;33m\u001b[0m\u001b[1;33m\u001b[0m\u001b[0m\n",
      "\u001b[1;31mModuleNotFoundError\u001b[0m: No module named 'help'"
     ]
    }
   ],
   "source": [
    "import help\n",
    "print(dir(help))"
   ]
  },
  {
   "cell_type": "code",
   "execution_count": 9,
   "id": "ce7e689c",
   "metadata": {},
   "outputs": [
    {
     "name": "stdout",
     "output_type": "stream",
     "text": [
      "enter two value : 2 3\n",
      "3.0\n"
     ]
    }
   ],
   "source": [
    "b,h = [eval(x) for x in input('enter two value : ').split()]\n",
    "area=1/2*b*h\n",
    "print(area)\n"
   ]
  },
  {
   "cell_type": "code",
   "execution_count": 29,
   "id": "f4e9da0d",
   "metadata": {},
   "outputs": [
    {
     "name": "stdout",
     "output_type": "stream",
     "text": [
      "['BPF', 'LOG4', 'NV_MAGICCONST', 'RECIP_BPF', 'Random', 'SG_MAGICCONST', 'SystemRandom', 'TWOPI', '_Sequence', '_Set', '__all__', '__builtins__', '__cached__', '__doc__', '__file__', '__loader__', '__name__', '__package__', '__spec__', '_accumulate', '_acos', '_bisect', '_ceil', '_cos', '_e', '_exp', '_inst', '_log', '_os', '_pi', '_random', '_repeat', '_sha512', '_sin', '_sqrt', '_test', '_test_generator', '_urandom', '_warn', 'betavariate', 'choice', 'choices', 'expovariate', 'gammavariate', 'gauss', 'getrandbits', 'getstate', 'lognormvariate', 'normalvariate', 'paretovariate', 'randint', 'random', 'randrange', 'sample', 'seed', 'setstate', 'shuffle', 'triangular', 'uniform', 'vonmisesvariate', 'weibullvariate']\n"
     ]
    }
   ],
   "source": [
    "import random\n",
    "print(dir(random))"
   ]
  },
  {
   "cell_type": "code",
   "execution_count": 35,
   "id": "de02b780",
   "metadata": {},
   "outputs": [
    {
     "data": {
      "text/plain": [
       "2.302585092994046"
      ]
     },
     "execution_count": 35,
     "metadata": {},
     "output_type": "execute_result"
    }
   ],
   "source": [
    "from random import*\n",
    "log(10)"
   ]
  },
  {
   "cell_type": "code",
   "execution_count": 12,
   "id": "f42fcb02",
   "metadata": {},
   "outputs": [
    {
     "name": "stdout",
     "output_type": "stream",
     "text": [
      "enter two value : 2,2\n",
      "area 2.0\n"
     ]
    }
   ],
   "source": [
    "b,h = [eval(x) for x in input('enter two value : ').split(',')]\n",
    "print('area',1/2*b*h)\n"
   ]
  },
  {
   "cell_type": "code",
   "execution_count": null,
   "id": "b6f2d5d4",
   "metadata": {},
   "outputs": [],
   "source": []
  }
 ],
 "metadata": {
  "kernelspec": {
   "display_name": "Python 3",
   "language": "python",
   "name": "python3"
  },
  "language_info": {
   "codemirror_mode": {
    "name": "ipython",
    "version": 3
   },
   "file_extension": ".py",
   "mimetype": "text/x-python",
   "name": "python",
   "nbconvert_exporter": "python",
   "pygments_lexer": "ipython3",
   "version": "3.8.8"
  }
 },
 "nbformat": 4,
 "nbformat_minor": 5
}
